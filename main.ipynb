{
 "cells": [
  {
   "cell_type": "code",
   "execution_count": null,
   "metadata": {},
   "outputs": [],
   "source": [
    "from selenium import webdriver\n",
    "driverPath = 'edgedriver_win64\\msedgedriver.exe'\n",
    "import time\n",
    "wd = webdriver.Edge(driverPath)\n",
    "\n",
    "wd.get('https://yb.dhu.edu.cn/sccloudV2/NewStudent1/User/HandBook/handBookTestStart?customer_id=5&module_tag=HANDBOOK')\n",
    "\n",
    "wd.find_element_by_xpath('/html/body/main/section[1]/div/div[1]/input').send_keys('输入用户名') #输入用户名\n",
    "wd.find_element_by_xpath('/html/body/main/section[1]/div/div[2]/input').send_keys('输入密码') #输入密码\n",
    "wd.find_element_by_xpath('/html/body/main/section[1]/div/div[4]/button[1]').click() #点击登陆\n"
   ]
  },
  {
   "cell_type": "code",
   "execution_count": 8,
   "metadata": {},
   "outputs": [],
   "source": [
    "# wd.get('https://yb.dhu.edu.cn/sccloudV2/NewStudent1/User/HandBook/handBookTestDetail?customer_id=5&module_tag=HANDBOOK') #学生手册\n",
    "# wd.get('https://yb.dhu.edu.cn/sccloudV2/NewStudent1/User/HandBook/handBookTestDetail?customer_id=5&module_tag=NETWORK_SECURITY') #网络安全\n",
    "wd.get('https://yb.dhu.edu.cn/sccloudV2/NewStudent1/User/HandBook/handBookTestDetail?customer_id=5&module_tag=GARBAGE_CG') #垃圾分类"
   ]
  },
  {
   "cell_type": "code",
   "execution_count": 9,
   "metadata": {},
   "outputs": [],
   "source": [
    "from bs4 import BeautifulSoup as bs\n",
    "from selenium.webdriver.common.by import By\n",
    "\n",
    "for count in range(0,75):\n",
    "    soup = bs(wd.page_source) \n",
    "    test_content = soup.find('div',class_='test_content')\n",
    "    form_data = {\n",
    "        \"quiz_question_id\":test_content.get('data-id'),\n",
    "        \"question_type_fixed\" : test_content.get('data-question-type-fixed'),\n",
    "        \"user_quiz_answer_id\": '237042', #随便填\n",
    "        \"quiz_id\" : '490',#489学生手册 #491网络安全 #490垃圾分类\n",
    "        \"answer\" : 'A',\n",
    "    }\n",
    "    try:\n",
    "        dataStr = \"user_quiz_answer_id=\" + form_data ['user_quiz_answer_id']+\"&quiz_id=\"+form_data['quiz_id'] + \"&question_type_fixed=\" +form_data['question_type_fixed'] + \"&answer=\" + form_data['answer'] + \"&quiz_question_id=\" + form_data['quiz_question_id']\n",
    "    except TypeError:\n",
    "        break\n",
    "    # print(dataStr)\n",
    "    id_list = soup.findAll('li',class_='answer-click') \n",
    "    id_dic = {}\n",
    "    num = 1\n",
    "    for item in id_list:\n",
    "        id_dic[item.get('data-id')] = str(num)\n",
    "        num+=1\n",
    "    # print(id_dic) \n",
    "    jq = ''\n",
    "    with open('jquery.min.js') as f:\n",
    "        jq = f.read()\n",
    "    wd.execute_script(jq)\n",
    "    ajax_query = '''\n",
    "    $.ajax({type:\"POST\",url:\"/sccloudV2/index.php/NewStudent1/User/HandBookAjax/addStudentAnswer\",\n",
    "    data: \"%s\",\n",
    "    async: false,\n",
    "    dataType:\"json\",\n",
    "    success: function () {}\n",
    "    })\n",
    "            '''%(dataStr)\n",
    "    ajax_query = ajax_query.replace(\" \", \"\").replace(\"\\n\", \"\")\n",
    "    # print(ajax_query)\n",
    "    resp = wd.execute_script(\"return \" + ajax_query)\n",
    "    answer = []\n",
    "    for asw in resp['data']['right_answer_list']:\n",
    "        answer.append(asw['mw_quiz_question_option_id'])\n",
    "    for a in answer:\n",
    "        n = '/html/body/div[1]/div[3]/div[1]/ul/li[%s]'%id_dic[a]\n",
    "        wd.find_element(By.XPATH,n).click()\n",
    "    wd.find_element(By.XPATH,'/html/body/div[1]/div[3]/div[2]').click()\n",
    "    time.sleep(1.5)\n",
    "\n"
   ]
  },
  {
   "cell_type": "code",
   "execution_count": null,
   "metadata": {},
   "outputs": [],
   "source": []
  }
 ],
 "metadata": {
  "interpreter": {
   "hash": "8a8009e45e2cdd6f6f3ca76676758e34cb8f88b4738d75cf98412f80673a3155"
  },
  "kernelspec": {
   "display_name": "Python 3.9.6 64-bit",
   "name": "python3"
  },
  "language_info": {
   "codemirror_mode": {
    "name": "ipython",
    "version": 3
   },
   "file_extension": ".py",
   "mimetype": "text/x-python",
   "name": "python",
   "nbconvert_exporter": "python",
   "pygments_lexer": "ipython3",
   "version": "3.9.6"
  },
  "orig_nbformat": 4
 },
 "nbformat": 4,
 "nbformat_minor": 2
}
